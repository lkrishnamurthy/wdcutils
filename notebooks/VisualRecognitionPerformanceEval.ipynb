{
 "cells": [
  {
   "cell_type": "markdown",
   "metadata": {},
   "source": [
    "#Notebook for testing performance of Visual Recognition Custom Classifiers\n",
    "[Watson Developer Cloud](https://www.ibm.com/watsondevelopercloud) is a platform of cognitive services that leverage machine learning techniques to help partners and clients solve a variety of business problems. Furthermore, several of the WDC services fall under the **supervised learning** suite of machine learning algorithms, that is, algorithms that learn by example. This begs the questions: \"How many examples should we provide?\" and \"When is my solution ready for prime time?\"\n",
    "\n",
    "It is critical to understand that training a machine learning solution is an iterative process where it is important to continually improve the solution by providing new examples and measuring the performance of the trained solution. In this notebook, we show how you can compute important Machine Learning metrics (accuracy, precision, recall, confusion_matrix) to judge the performance of your solution. For more details on these various metrics, please consult the **[Is Your Chatbot Ready for Prime-Time?](https://developer.ibm.com/dwblog/2016/chatbot-cognitive-performance-metrics-accuracy-precision-recall-confusion-matrix/)** blog.\n"
   ]
  },
  {
   "cell_type": "markdown",
   "metadata": {},
   "source": [
    "<br> The notebook assumes you have already created a Watson [Visual Recognition](https://www.ibm.com/watson/developercloud/visual-recognition.html) instance and trained [custom classifiers](https://www.ibm.com/watson/developercloud/doc/visual-recognition/tutorial-custom-classifier.html). </br>\n",
    "<br> To leverage this notebook, you need to provide the following information</br>\n",
    "* Credentials for your Visual Recognition instance (apikey)\n",
    "* id for your trained classifier (this is returned when you train your Visual Recognition custom classifier)\n",
    "* csv file with your test images (paths to images on your local disk) and corresponding class labels\n",
    "* results csv file to write the results to (true vs. predicted class labels)\n",
    "* csv file to write confusion matrix to\n",
    "\n",
    "Note that the input test csv file should have a header with the fields **image** and **class**. "
   ]
  },
  {
   "cell_type": "code",
   "execution_count": 1,
   "metadata": {},
   "outputs": [
    {
     "name": "stdout",
     "output_type": "stream",
     "text": [
      "Requirement already satisfied: matplotlib in /Library/Python/2.7/site-packages\n",
      "Requirement already satisfied: pyparsing!=2.0.0,!=2.0.4,>=1.5.6 in /Library/Python/2.7/site-packages (from matplotlib)\n",
      "Requirement already satisfied: python-dateutil in /Library/Python/2.7/site-packages (from matplotlib)\n",
      "Requirement already satisfied: numpy>=1.6 in /Library/Python/2.7/site-packages (from matplotlib)\n",
      "Requirement already satisfied: pytz in /Library/Python/2.7/site-packages (from matplotlib)\n",
      "Requirement already satisfied: cycler in /Library/Python/2.7/site-packages (from matplotlib)\n",
      "Requirement already satisfied: six>=1.5 in /Library/Python/2.7/site-packages (from python-dateutil->matplotlib)\n"
     ]
    }
   ],
   "source": [
    "!pip install matplotlib"
   ]
  },
  {
   "cell_type": "code",
   "execution_count": 1,
   "metadata": {},
   "outputs": [],
   "source": [
    "#Import utilities\n",
    "import json\n",
    "import csv\n",
    "import sys\n",
    "import pandas as pd\n",
    "from sklearn.metrics import confusion_matrix\n",
    "from sklearn.metrics import precision_recall_fscore_support\n",
    "from sklearn.metrics import classification_report\n",
    "from sklearn.metrics import accuracy_score\n",
    "import matplotlib.pyplot as plt\n",
    "import pandas_ml\n",
    "import cv2\n",
    "import numpy as np\n",
    "import time \n",
    "import requests\n",
    "import operator\n",
    "from __future__ import print_function\n",
    "import json\n",
    "import csv\n",
    "from pandas_ml import ConfusionMatrix\n",
    "from watson_developer_cloud import VisualRecognitionV3\n",
    "import itertools\n",
    "\n",
    "%matplotlib inline "
   ]
  },
  {
   "cell_type": "markdown",
   "metadata": {},
   "source": [
    "Provide the path to the parms file which includes credentials to access your VR service as well as the input\n",
    "test csv file and the output csv files to write the output results to."
   ]
  },
  {
   "cell_type": "code",
   "execution_count": 2,
   "metadata": {},
   "outputs": [],
   "source": [
    "# Provide complete path to the file which includes all required parms\n",
    "# A sample parms file is included (example_VR_parms.json)\n",
    "vrParmsFile = '/Users/lkrishna/git/wdcutils/example_VR_parms.json'\n",
    "parms = ''\n",
    "with open(vrParmsFile) as parmFile:\n",
    "    parms = json.load(parmFile)\n",
    "\n",
    "url=parms['url']\n",
    "apikey=parms['apikey']\n",
    "vr_id=parms['vr_id']\n",
    "test_csv_file=parms['test_csv_file']\n",
    "results_csv_file=parms['results_csv_file']\n",
    "confmatrix_csv_file=parms['confmatrix_csv_file']\n",
    "json.dumps(parms)\n",
    "\n",
    "# Create an object for your Visual Recognition instance\n",
    "visual_recognition = VisualRecognitionV3('2016-05-20', api_key=apikey)"
   ]
  },
  {
   "cell_type": "markdown",
   "metadata": {},
   "source": [
    "Define useful methods to classify using custom VR classifier."
   ]
  },
  {
   "cell_type": "code",
   "execution_count": 21,
   "metadata": {},
   "outputs": [],
   "source": [
    "# Given an image and a pointer to VR instance and classifierID, get back VR response\n",
    "def getVRresponse(vr_instance,classifierID,image_path):\n",
    "    with open(image_path, 'rb') as image_file:\n",
    "        parameters = json.dumps({'threshold':0.01, 'classifier_ids': [classifierID]})\n",
    "       #parameters = json.dumps({'threshold':0.01, 'classifier_ids': ['travel_1977348895','travel_2076475268','default']}) \n",
    "        image_results = vr_instance.classify(images_file=image_file,\n",
    "                                             parameters = parameters)\n",
    "        # For our purposes, we assume each call is to classify one image\n",
    "        # Although the Visual Recognition classify endpoint accepts as input\n",
    "        # a .zip file, we need each image to be labeled with the correct class\n",
    "        classList = []\n",
    "        for classifier in image_results['images'][0]['classifiers']:\n",
    "            if classifier['classifier_id'] == vr_id:\n",
    "                classList = classifier['classes']\n",
    "                break\n",
    "        # Sort the returned classes by score\n",
    "        #print(\"classList: \", classList)\n",
    "        sorted_classList = sorted(classList, key=lambda k: k.get('score', 0), reverse=True)\n",
    "        #print(\"sortedList: \", sorted_classList)\n",
    "    return sorted_classList\n",
    "\n",
    "# Process multiple images (provided via csv file) in batch. Effectively, read the csv file and for each image\n",
    "# get VR response. Aggregate and return results.\n",
    "def batchVR(vr_instance,classifierID,csvfile):\n",
    "    test_classes=[]\n",
    "    vr_predict_classes=[]\n",
    "    vr_predict_confidence=[]\n",
    "    images=[]\n",
    "    i=0\n",
    "    with open(csvfile, 'r') as csvfile:\n",
    "        csvReader=csv.DictReader(csvfile)\n",
    "        for row in csvReader:\n",
    "            test_classes.append(row['class'])\n",
    "            vr_response = getVRresponse(vr_instance,classifierID,row['image'])\n",
    "            vr_predict_classes.append(vr_response[0]['class'])\n",
    "            vr_predict_confidence.append(vr_response[0]['score'])\n",
    "            images.append(row['image'])\n",
    "            i = i+1\n",
    "            if(i%5 == 0):\n",
    "                print(\"\")\n",
    "                print(\"Processed \", i, \" images\")\n",
    "            if(i%10 == 0):\n",
    "                sys.stdout.write('.')\n",
    "        print(\"\")\n",
    "        print(\"Finished processing \", i, \" images\")\n",
    "    return test_classes, vr_predict_classes, vr_predict_confidence, images\n",
    "\n",
    "# Plot confusion matrix as an image\n",
    "def plot_conf_matrix(conf_matrix):\n",
    "    plt.figure()\n",
    "    plt.imshow(conf_matrix)\n",
    "    plt.show()\n",
    "    \n",
    "\n",
    "# Print confusion matrix to a csv file\n",
    "def confmatrix2csv(conf_matrix,labels,csvfile):\n",
    "    with open(csvfile, 'w') as csvfile:\n",
    "        csvWriter = csv.writer(csvfile)\n",
    "        row=list(labels)\n",
    "        row.insert(0,\"\")\n",
    "        csvWriter.writerow(row)\n",
    "        for i in range(conf_matrix.shape[0]):\n",
    "            row=list(conf_matrix[i])\n",
    "            row.insert(0,labels[i])\n",
    "            csvWriter.writerow(row)\n",
    "            \n",
    "# get maximum score\n",
    "def getMaxConfidenceClass(classes):\n",
    "    scores = []\n",
    "    maxClass = ''\n",
    "    for clazz in classes:\n",
    "        scores.append(clazz['score'])\n",
    "    maxConfidence = numpy.amax(scores)\n",
    "    for clazz in classes:\n",
    "        if clazz['score'] == maxConfidence:\n",
    "           maxClass = clazz['class']\n",
    "           return maxClass,maxConfidence\n",
    "        \n",
    "# Returns precision, recall, F1 in DataFrame format     \n",
    "def getPrecisionRecallF1Support(test_classes, predict_classes,_labels):\n",
    "    clf_rep = precision_recall_fscore_support(test_classes, predict_classes,labels=_labels)\n",
    "    out_dict = {\n",
    "             \"precision\" :clf_rep[0].round(2)\n",
    "            ,\"recall\" : clf_rep[1].round(2)\n",
    "            ,\"f1-score\" : clf_rep[2].round(2)\n",
    "            ,\"support\" : clf_rep[3]\n",
    "            }\n",
    "    out_df = pd.DataFrame(out_dict,index=labels)\n",
    "    avg_tot = (out_df.apply(lambda x: round(x.mean(), 2) if x.name!=\"support\" else  round(x.sum(), 2)).to_frame().T)\n",
    "    avg_tot.index = [\"avg/total\"]\n",
    "    out_df = out_df.append(avg_tot)\n",
    "    return out_df\n",
    "\n",
    "def plot_confusion_matrix(cm, classes,\n",
    "                          normalize=False,\n",
    "                          title='Confusion matrix',\n",
    "                          cmap=plt.cm.Blues):\n",
    "    \"\"\"\n",
    "    This function prints and plots the confusion matrix.\n",
    "    Normalization can be applied by setting `normalize=True`.\n",
    "    \"\"\"\n",
    "    if normalize:\n",
    "        cm = cm.astype('float') / cm.sum(axis=1)[:, np.newaxis]\n",
    "        print(\"Normalized confusion matrix\")\n",
    "    else:\n",
    "        print('Confusion matrix, without normalization')\n",
    "\n",
    "    print(cm)\n",
    "\n",
    "    plt.imshow(cm, interpolation='nearest', cmap=cmap)\n",
    "    plt.title(title)\n",
    "    plt.colorbar()\n",
    "    tick_marks = np.arange(len(classes))\n",
    "    plt.xticks(tick_marks, classes, rotation=45)\n",
    "    plt.yticks(tick_marks, classes)\n",
    "\n",
    "    fmt = '.2f' if normalize else 'd'\n",
    "    thresh = cm.max() / 2.\n",
    "    for i, j in itertools.product(range(cm.shape[0]), range(cm.shape[1])):\n",
    "        plt.text(j, i, format(cm[i, j], fmt),\n",
    "                 horizontalalignment=\"center\",\n",
    "                 color=\"white\" if cm[i, j] > thresh else \"black\")\n",
    "\n",
    "    plt.tight_layout()\n",
    "    plt.ylabel('True label')\n",
    "    plt.xlabel('Predicted label')\n",
    "            "
   ]
  },
  {
   "cell_type": "code",
   "execution_count": 27,
   "metadata": {},
   "outputs": [
    {
     "name": "stdout",
     "output_type": "stream",
     "text": [
      "[\n",
      "  {\n",
      "    \"class\": \"usbc_female\",\n",
      "    \"score\": 0.989555\n",
      "  },\n",
      "  {\n",
      "    \"class\": \"hdmi_male\",\n",
      "    \"score\": 0.874156\n",
      "  },\n",
      "  {\n",
      "    \"class\": \"usbc_male\",\n",
      "    \"score\": 0.827323\n",
      "  }\n",
      "]\n"
     ]
    }
   ],
   "source": [
    "# This is an optional step to quickly test response from Visual Recognition for a given image\n",
    "testImage='/Users/lkrishna/Downloads/connectors/test-set/IMG_0127.jpg'\n",
    "results = getVRresponse(visual_recognition,vr_id,testImage)\n",
    "print(json.dumps(results[:3], indent=2))"
   ]
  },
  {
   "cell_type": "markdown",
   "metadata": {},
   "source": [
    "Call Visual Recognition on the specified csv file and collect results."
   ]
  },
  {
   "cell_type": "code",
   "execution_count": 9,
   "metadata": {},
   "outputs": [
    {
     "name": "stdout",
     "output_type": "stream",
     "text": [
      "\n",
      "Processed  5  images\n",
      "\n",
      "Processed  10  images\n",
      ".\n",
      "Finished processing  10  images\n"
     ]
    }
   ],
   "source": [
    "test_classes,vr_predict_classes,vr_predict_conf,images=batchVR(visual_recognition,vr_id,test_csv_file)"
   ]
  },
  {
   "cell_type": "code",
   "execution_count": 18,
   "metadata": {},
   "outputs": [],
   "source": [
    "# print results to csv file including original text, the correct label, \n",
    "# the predicted label and the confidence reported by NLC.\n",
    "csvfileOut=results_csv_file\n",
    "with open(csvfileOut, 'w') as csvOut:\n",
    "    outrow=['image','true class','VR Predicted class','Confidence']\n",
    "    csvWriter = csv.writer(csvOut,dialect='excel')\n",
    "    csvWriter.writerow(outrow)\n",
    "    for i in range(len(images)):\n",
    "        outrow=[images[i],test_classes[i],vr_predict_classes[i],str(vr_predict_conf[i])]\n",
    "        csvWriter.writerow(outrow)"
   ]
  },
  {
   "cell_type": "code",
   "execution_count": 19,
   "metadata": {},
   "outputs": [],
   "source": [
    "# Compute confusion matrix\n",
    "labels=list(set(test_classes))\n",
    "vr_confusion_matrix = confusion_matrix(test_classes, vr_predict_classes, labels)\n",
    "vrConfMatrix = ConfusionMatrix(test_classes, vr_predict_classes)"
   ]
  },
  {
   "cell_type": "code",
   "execution_count": 22,
   "metadata": {},
   "outputs": [],
   "source": [
    "# Print out confusion matrix with labels to csv file\n",
    "confmatrix2csv(vr_confusion_matrix,labels,confmatrix_csv_file)"
   ]
  },
  {
   "cell_type": "code",
   "execution_count": 23,
   "metadata": {},
   "outputs": [
    {
     "name": "stdout",
     "output_type": "stream",
     "text": [
      "Normalized confusion matrix\n",
      "[[ 1.   0.   0.   0. ]\n",
      " [ 0.   1.   0.   0. ]\n",
      " [ 0.   0.   0.5  0.5]\n",
      " [ 0.   0.   0.   1. ]]\n"
     ]
    },
    {
     "data": {
      "image/png": "[encoded data removed]",
      "text/plain": [
       "<matplotlib.figure.Figure at 0x110666d30>"
      ]
     },
     "metadata": {},
     "output_type": "display_data"
    }
   ],
   "source": [
    "%matplotlib inline\n",
    "#vrConfMatrix.plot()\n",
    "\n",
    "# Plot normalized confusion matrix\n",
    "plt.figure()\n",
    "plot_confusion_matrix(vr_confusion_matrix, classes=labels, normalize=True,\n",
    "                      title='Normalized confusion matrix')"
   ]
  },
  {
   "cell_type": "code",
   "execution_count": 25,
   "metadata": {},
   "outputs": [
    {
     "name": "stdout",
     "output_type": "stream",
     "text": [
      "Classification Accuracy:  0.9\n"
     ]
    }
   ],
   "source": [
    "# Compute accuracy of classification\n",
    "acc=accuracy_score(test_classes, vr_predict_classes)\n",
    "print('Classification Accuracy: ', acc)"
   ]
  },
  {
   "cell_type": "code",
   "execution_count": 26,
   "metadata": {},
   "outputs": [
    {
     "name": "stdout",
     "output_type": "stream",
     "text": [
      "             f1-score  precision  recall  support\n",
      "usb_female       1.00       1.00    1.00      2.0\n",
      "vga_female       1.00       1.00    1.00      4.0\n",
      "hdmi_male        0.67       1.00    0.50      2.0\n",
      "usbc_female      0.80       0.67    1.00      2.0\n",
      "avg/total        0.87       0.92    0.88     10.0\n"
     ]
    }
   ],
   "source": [
    "# print precision, recall and f1-scores for the different classes\n",
    "print (getPrecisionRecallF1Support(test_classes, vr_predict_classes, labels))"
   ]
  },
  {
   "cell_type": "code",
   "execution_count": null,
   "metadata": {},
   "outputs": [],
   "source": [
    "#Optional if you would like each of these metrics separately\n",
    "#[precision,recall,fscore,support]=precision_recall_fscore_support(test_classes, vr_predict_classes, labels=labels)\n",
    "#print \"precision: \", precision\n",
    "#print \"recall: \", recall\n",
    "#print \"f1 score: \", fscore\n",
    "#rint \"support: \", support"
   ]
  },
  {
   "cell_type": "code",
   "execution_count": null,
   "metadata": {
    "collapsed": true
   },
   "outputs": [],
   "source": []
  }
 ],
 "metadata": {
  "kernelspec": {
   "display_name": "Python 3",
   "language": "python",
   "name": "python3"
  },
  "language_info": {
   "codemirror_mode": {
    "name": "ipython",
    "version": 3
   },
   "file_extension": ".py",
   "mimetype": "text/x-python",
   "name": "python",
   "nbconvert_exporter": "python",
   "pygments_lexer": "ipython3",
   "version": "3.6.3"
  }
 },
 "nbformat": 4,
 "nbformat_minor": 1
}
